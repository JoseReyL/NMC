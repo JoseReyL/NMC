{
 "cells": [
  {
   "cell_type": "code",
   "execution_count": 120,
   "metadata": {
    "pycharm": {
     "is_executing": false
    }
   },
   "outputs": [],
   "source": [
    "\n",
    "import gzip\n",
    "import os\n",
    "import pickle\n",
    "from urllib.request import urlretrieve\n",
    "\n",
    "import nengo\n",
    "import nengo_dl\n",
    "import numpy as np\n",
    "import matplotlib.pyplot as plt\n",
    "import tensorflow as tf\n",
    "try:\n",
    "    import requests\n",
    "    has_requests = True\n",
    "except ImportError:\n",
    "    has_requests = False\n",
    "\n",
    "import nengo_loihi\n",
    "import keras"
   ]
  },
  {
   "cell_type": "code",
   "execution_count": 121,
   "outputs": [],
   "source": [
    "gpu_options = tf.GPUOptions(allow_growth=True)\n",
    "\n",
    "sess = tf.Session(config=tf.ConfigProto(gpu_options=gpu_options))\n"
   ],
   "metadata": {
    "collapsed": false,
    "pycharm": {
     "name": "#%%\n",
     "is_executing": false
    }
   }
  },
  {
   "cell_type": "code",
   "execution_count": 122,
   "metadata": {
    "pycharm": {
     "is_executing": false
    }
   },
   "outputs": [],
   "source": [
    "(train_images, train_labels), (test_images, test_labels) = (\n",
    "    keras.datasets.cifar10.load_data())\n",
    "\n",
    "\n",
    "# flatten images\n",
    "train_images = train_images.reshape((train_images.shape[0], -1))\n",
    "test_images = test_images.reshape((test_images.shape[0], -1))\n",
    "\n",
    "\n",
    "\n",
    "\n",
    "train_data = [train_images/254, train_labels]\n",
    "test_data = [test_images/254, test_labels]\n",
    "\n",
    "    \n",
    "# plot some examples\n",
    "#for i in range(3):\n",
    "#    plt.figure()\n",
    "#    plt.imshow(np.reshape(train_data[0][i], (3, 32, 32)))\n",
    "#    plt.axis('off')\n",
    "#    plt.title(str(np.argmax(train_data[1][i])));"
   ]
  },
  {
   "cell_type": "code",
   "execution_count": 123,
   "outputs": [],
   "source": [
    "train_data[1] = [x[0] for x in train_data[1]]\n",
    "test_data[1] = [x[0] for x in test_data[1]]\n",
    "\n",
    "for data in (train_data, test_data):\n",
    "    one_hot = np.zeros((data[0].shape[0], 10))\n",
    "    one_hot[np.arange(data[0].shape[0]), data[1]] = 1\n",
    "    data[1] = one_hot\n",
    "\n"
   ],
   "metadata": {
    "collapsed": false,
    "pycharm": {
     "name": "#%%\n",
     "is_executing": false
    }
   }
  },
  {
   "cell_type": "code",
   "execution_count": 124,
   "metadata": {
    "pycharm": {
     "is_executing": false
    }
   },
   "outputs": [],
   "source": [
    "def conv_layer(x, *args, activation=True, **kwargs):\n",
    "    # create a Conv2D transform with the given arguments\n",
    "    conv = nengo.Convolution(*args, channels_last=True, **kwargs)\n",
    "\n",
    "    if activation:\n",
    "        # add an ensemble to implement the activation function\n",
    "        layer = nengo.Ensemble(conv.output_shape.size, 1).neurons\n",
    "    else:\n",
    "        # no nonlinearity, so we just use a node\n",
    "        layer = nengo.Node(size_in=conv.output_shape.size)\n",
    "\n",
    "    # connect up the input object to the new layer\n",
    "    nengo.Connection(x, layer, transform=conv)\n",
    "\n",
    "    # print out the shape information for our new layer\n",
    "    print(\"LAYER\")\n",
    "    print(conv.input_shape.shape, \"->\", conv.output_shape.shape)\n",
    "\n",
    "    return layer, conv"
   ]
  },
  {
   "cell_type": "code",
   "execution_count": null,
   "metadata": {
    "pycharm": {
     "is_executing": true
    }
   },
   "outputs": [
    {
     "name": "stdout",
     "text": [
      "LAYER\n",
      "(32, 32, 3) -> (32, 32, 8)\n",
      "LAYER\n",
      "(32, 32, 8) -> (15, 15, 32)\n",
      "LAYER\n",
      "(32, 32, 3) -> (32, 32, 8)\n",
      "LAYER\n",
      "(32, 32, 8) -> (15, 15, 32)\n",
      "LAYER\n",
      "(32, 32, 3) -> (32, 32, 8)\n",
      "LAYER\n",
      "(32, 32, 8) -> (15, 15, 32)\n",
      "LAYER\n",
      "(32, 32, 3) -> (32, 32, 8)\n",
      "LAYER\n",
      "(32, 32, 8) -> (15, 15, 32)\n",
      "LAYER\n",
      "(32, 32, 3) -> (32, 32, 8)\n",
      "LAYER\n",
      "(32, 32, 8) -> (15, 15, 32)\n",
      "LAYER\n",
      "(32, 32, 3) -> (32, 32, 8)\n",
      "LAYER\n",
      "(32, 32, 8) -> (15, 15, 32)\n",
      "LAYER\n",
      "(32, 32, 3) -> (32, 32, 8)\n",
      "LAYER\n",
      "(32, 32, 8) -> (15, 15, 32)\n",
      "LAYER\n",
      "(32, 32, 3) -> (32, 32, 8)\n",
      "LAYER\n",
      "(32, 32, 8) -> (15, 15, 32)\n",
      "LAYER\n",
      "(32, 32, 3) -> (32, 32, 8)\n",
      "LAYER\n",
      "(32, 32, 8) -> (15, 15, 32)\n",
      "LAYER\n",
      "(32, 32, 3) -> (32, 32, 8)\n",
      "LAYER\n",
      "(32, 32, 8) -> (15, 15, 32)\n",
      "LAYER\n",
      "(32, 32, 3) -> (32, 32, 8)\n",
      "LAYER\n",
      "(32, 32, 8) -> (15, 15, 32)\n",
      "LAYER\n",
      "(32, 32, 3) -> (32, 32, 8)\n",
      "LAYER\n",
      "(32, 32, 8) -> (15, 15, 32)\n",
      "LAYER\n",
      "(32, 32, 3) -> (32, 32, 8)\n",
      "LAYER\n",
      "(32, 32, 8) -> (15, 15, 32)\n",
      "LAYER\n",
      "(32, 32, 3) -> (32, 32, 8)\n",
      "LAYER\n",
      "(32, 32, 8) -> (15, 15, 32)\n",
      "LAYER\n",
      "(32, 32, 3) -> (32, 32, 8)\n",
      "LAYER\n",
      "(32, 32, 8) -> (15, 15, 32)\n",
      "LAYER\n",
      "(32, 32, 3) -> (32, 32, 8)\n",
      "LAYER\n",
      "(32, 32, 8) -> (15, 15, 32)\n"
     ],
     "output_type": "stream"
    }
   ],
   "source": [
    "dt = 0.001  # simulation timestep\n",
    "presentation_time = 0.1  # input presentation time\n",
    "max_rate = 100  # neuron firing rates\n",
    "# neuron spike amplitude (scaled so that the overall output is ~1)\n",
    "amp = 1 / max_rate\n",
    "# input image shape\n",
    "input_shape = (32, 32, 3)\n",
    "n_parallel = 1\n",
    "\n",
    "with nengo.Network(seed=0) as net:\n",
    "    # set up the default parameters for ensembles/connections\n",
    "    nengo_loihi.add_params(net)\n",
    "    net.config[nengo.Ensemble].neuron_type = (\n",
    "        nengo.LIF(amplitude=amp))\n",
    "    net.config[nengo.Ensemble].max_rates = nengo.dists.Choice([max_rate])\n",
    "    net.config[nengo.Ensemble].intercepts = nengo.dists.Choice([0])\n",
    "    net.config[nengo.Connection].synapse = None\n",
    "\n",
    "    # the input node that will be used to feed in input images\n",
    "    inp = nengo.Node(\n",
    "        nengo.processes.PresentInput(test_data[0], presentation_time),\n",
    "        size_out= 32 * 32 * 3)\n",
    "\n",
    "    # the output node provides the 10-dimensional classification\n",
    "    out = nengo.Node(size_in=10)\n",
    "    # build parallel copies of the network\n",
    "    for _ in range(n_parallel):\n",
    "        layer, conv = conv_layer(\n",
    "            inp, 8, input_shape, kernel_size=(1, 1),\n",
    "            init=np.ones((1, 1, 3, 8)))\n",
    "        # first layer is off-chip to translate the images into spikes\n",
    "        net.config[layer.ensemble].on_chip = False\n",
    "        layer, conv = conv_layer(layer, 32, conv.output_shape,\n",
    "                                 strides=(2, 2))\n",
    "        #layer, conv = conv_layer(layer, 96, conv.output_shape,\n",
    "        #                         strides=(2, 2))\n",
    "        #layer, conv = conv_layer(layer, 192, conv.output_shape,\n",
    "        #                         strides=(1, 1))\n",
    "        #layer, conv = conv_layer(layer, 192, conv.output_shape,\n",
    "        #                         strides=(2, 2))\n",
    "        #layer, conv = conv_layer(layer, 64, conv.output_shape,\n",
    "        #                         strides=(2, 2))\n",
    "        #layer, conv = conv_layer(layer, 96, conv.output_shape,\n",
    "        #                         strides=(2, 2))\n",
    "        #layer, conv = conv_layer(layer, 128, conv.output_shape,\n",
    "        #                         strides=(2, 2))\n",
    "        #layer, conv = conv_layer(layer, 128, conv.output_shape,\n",
    "        #                        kernel_size=(1, 1))\n",
    "        nengo.Connection(layer, out, transform=nengo_dl.dists.Glorot())\n",
    "\n",
    "    out_p = nengo.Probe(out)\n",
    "    out_p_filt = nengo.Probe(out, synapse=nengo.Alpha(0.01))"
   ]
  },
  {
   "cell_type": "code",
   "execution_count": null,
   "metadata": {
    "pycharm": {
     "is_executing": true
    }
   },
   "outputs": [],
   "source": [
    "# set up training data\n",
    "minibatch_size = 100\n",
    "train_data_test = {\n",
    "    inp: np.tile(train_data[0][:1000, None, :],\n",
    "                 (1, int(presentation_time / dt), 1)),\n",
    "    out_p_filt: np.tile(train_data[1][:1000, None, :],\n",
    "                        (1, int(presentation_time / dt), 1))\n",
    "}\n",
    "\n",
    "train_data = {inp: train_data[0][:, None, :],\n",
    "              out_p: train_data[1][:, None, :]}\n",
    "\n",
    "# for the test data evaluation we'll be running the network over time\n",
    "# using spiking neurons, so we need to repeat the input/target data\n",
    "# for a number of timesteps (based on the presentation_time)\n",
    "test_data = {\n",
    "    inp: np.tile(test_data[0][:1000, None, :],\n",
    "                 (1, int(presentation_time / dt), 1)),\n",
    "    out_p_filt: np.tile(test_data[1][:1000, None, :],\n",
    "                        (1, int(presentation_time / dt), 1))\n",
    "}"
   ]
  },
  {
   "cell_type": "code",
   "execution_count": null,
   "metadata": {
    "pycharm": {
     "is_executing": true
    }
   },
   "outputs": [],
   "source": [
    "def crossentropy(outputs, targets):\n",
    "    return tf.reduce_mean(tf.nn.softmax_cross_entropy_with_logits_v2(\n",
    "        logits=outputs, labels=targets))\n",
    "\n",
    "\n",
    "def classification_error(outputs, targets):\n",
    "    return 100 * tf.reduce_mean(\n",
    "        tf.cast(tf.not_equal(tf.argmax(outputs[:, -1], axis=-1),\n",
    "                             tf.argmax(targets[:, -1], axis=-1)),\n",
    "                tf.float32))\n"
   ]
  },
  {
   "cell_type": "code",
   "execution_count": null,
   "metadata": {
    "pycharm": {
     "is_executing": true
    }
   },
   "outputs": [
    {
     "name": "stdout",
     "text": [
      "Build finished in 0:00:00                                                      \n",
      "Optimization finished in 0:00:03                                               \n",
      "Construction finished in 0:00:03                                               ##################################################################################################################################################################################################################################################################################################################################################################################################################################################################################################################################################################################################################################################################################################################################################################################################################################################################################################################################################################################################################################################################################################################################################################################################################################################################################################################################################################################################################################################################################################################################################################################################################################################################################################################################################################################################################################################################################################################################################################################################################################################################################################################################################################################################################################################################################################################################################################################################################################################################################################################################################################################################################################################################################################################################################################################################################################################################################################################################################################################################################################################################################################################################################################################################################################################################################################################################################################################################################################################################################################################################################################################################################################################################################################################################################################################################################################################################################################################################################################################################################################################################################################################################################################################################################################################################################################################################################################################################################################################################################################################| ETA: 0:00:00\n",
      "|#                 Training (2%)                 | ETA: 0:41:50 (loss: 87.8985)"
     ],
     "output_type": "stream"
    }
   ],
   "source": [
    "do_training = True\n",
    "\n",
    "with nengo_dl.Simulator(net, minibatch_size=minibatch_size, seed=0) as sim:\n",
    "    if do_training:\n",
    "        #print(\"error before training: %.2f%%\" %\n",
    "        #      sim.loss(test_data, {out_p_filt: classification_error}))\n",
    "\n",
    "        # run training\n",
    "        sim.train(train_data, tf.train.RMSPropOptimizer(learning_rate=0.001),\n",
    "                  objective={out_p: crossentropy}, n_epochs=5)\n",
    "\n",
    "        sim.save_params(\"./mnist_params4\")\n",
    "    else:\n",
    "        #download(\"mnist_params.data-00000-of-00001\",\n",
    "        #         \"1BaNU7Er_Q3SJt4i4Eqbv1Ln_TkmmCXvy\")\n",
    "        #download(\"mnist_params.index\", \"1w8GNylkamI-3yHfSe_L1-dBtvaQYjNlC\")\n",
    "        #download(\"mnist_params.meta\", \"1JiaoxIqmRupT4reQ5BrstuILQeHNffrX\")\n",
    "        sim.load_params(\"./mnist_params4\")\n",
    "\n",
    "\n",
    "    # store trained parameters back into the network\n",
    "    sim.freeze_params(net)\n",
    "\n",
    "for conn in net.all_connections:\n",
    "    conn.synapse = 0.016\n",
    "\n",
    "with nengo_dl.Simulator(net, minibatch_size=minibatch_size) as sim:\n",
    "    print(\"train error w/ synapse: %.2f%%\" %\n",
    "          sim.loss(train_data_test, {out_p_filt: classification_error}))\n"
   ]
  },
  {
   "cell_type": "code",
   "execution_count": null,
   "metadata": {
    "pycharm": {
     "is_executing": true
    }
   },
   "outputs": [],
   "source": [
    "for conn in net.all_connections:\n",
    "    conn.synapse = 0.016\n",
    "\n",
    "\n",
    "with nengo_dl.Simulator(net, minibatch_size=minibatch_size) as sim:\n",
    "    print(\"test error w/ synapse: %.2f%%\" %\n",
    "          sim.loss(test_data, {out_p_filt: classification_error}))\n"
   ]
  },
  {
   "cell_type": "code",
   "execution_count": null,
   "metadata": {
    "pycharm": {
     "is_executing": true
    }
   },
   "outputs": [],
   "source": [
    "n_presentations = 50\n",
    "with nengo_loihi.Simulator(net, dt=dt, precompute=False) as sim:\n",
    "    # if running on Loihi, increase the max input spikes per step\n",
    "    if 'loihi' in sim.sims:\n",
    "        sim.sims['loihi'].snip_max_spikes_per_step = 120\n",
    "\n",
    "    # run the simulation on Loihi\n",
    "    sim.run(n_presentations * presentation_time)\n",
    "\n",
    "    # check classification error\n",
    "    step = int(presentation_time / dt)\n",
    "    output = sim.data[out_p_filt][step - 1::step]\n",
    "    correct = 100 * (np.mean(\n",
    "        np.argmax(output, axis=-1)\n",
    "        != np.argmax(test_data[out_p_filt][:n_presentations, -1],\n",
    "                     axis=-1)\n",
    "    ))\n",
    "    print(\"loihi error: %.2f%%\" % correct)\n",
    "\n"
   ]
  },
  {
   "cell_type": "code",
   "execution_count": null,
   "outputs": [],
   "source": [
    "#non-loihi simulator\n",
    "n_presentations = 100\n",
    "with nengo.Simulator(net, dt=dt) as sim:\n",
    "    # if running on Loihi, increase the max input spikes per step\n",
    "    # if 'loihi' in sim.sims:\n",
    "    #    sim.sims['loihi'].snip_max_spikes_per_step = 120\n",
    "\n",
    "    # run the simulation on Loihi\n",
    "    sim.run(n_presentations * presentation_time)\n",
    "\n",
    "    # check classification error\n",
    "    step = int(presentation_time / dt)\n",
    "    output = sim.data[out_p][step - 1::step]\n",
    "    correct = 100 * (np.mean(\n",
    "        np.argmax(output, axis=-1)\n",
    "        != np.argmax(train_data[out_p][:n_presentations, -1],\n",
    "                     axis=-1)\n",
    "    ))\n",
    "    print(\"loihi error: %.2f%%\" % correct)"
   ],
   "metadata": {
    "collapsed": false,
    "pycharm": {
     "name": "#%%\n"
    }
   }
  },
  {
   "cell_type": "code",
   "execution_count": 38,
   "metadata": {
    "pycharm": {
     "is_executing": false
    }
   },
   "outputs": [
    {
     "data": {
      "application/vdom.v1+json": {
       "tagName": "div",
       "attributes": {}
      },
      "text/html": "\n                <script>\n                    if (Jupyter.version.split(\".\")[0] < 5) {\n                        var pb = document.getElementById(\"eb171908-cd34-4ee8-93fa-d455b83f406a\");\n                        var text = document.createTextNode(\n                            \"HMTL progress bar requires Jupyter Notebook >= \" +\n                            \"5.0 or Jupyter Lab. Alternatively, you can use \" +\n                            \"TerminalProgressBar().\");\n                        pb.parentNode.insertBefore(text, pb);\n                    }\n                </script>\n                <div id=\"eb171908-cd34-4ee8-93fa-d455b83f406a\" style=\"\n                    width: 100%;\n                    border: 1px solid #cfcfcf;\n                    border-radius: 4px;\n                    text-align: center;\n                    position: relative;\">\n                  <div class=\"pb-text\" style=\"\n                      position: absolute;\n                      width: 100%;\">\n                    0%\n                  </div>\n                  <div class=\"pb-fill\" style=\"\n                      background-color: #bdd2e6;\n                      width: 0%;\">\n                    <style type=\"text/css\" scoped=\"scoped\">\n                        @keyframes pb-fill-anim {\n                            0% { background-position: 0 0; }\n                            100% { background-position: 100px 0; }\n                        }\n                    </style>\n                    &nbsp;\n                  </div>\n                </div>",
      "text/plain": "HtmlProgressBar cannot be displayed. Please use the TerminalProgressBar. It can be enabled with `nengo.rc.set('progress', 'progress_bar', 'nengo.utils.progress.TerminalProgressBar')`."
     },
     "metadata": {},
     "output_type": "display_data"
    },
    {
     "data": {
      "application/vdom.v1+json": {
       "tagName": "div",
       "attributes": {
        "id": "00d6519d-bdc6-45a6-8ffd-cc9004d645af",
        "style": {
         "width": "100%",
         "boxSizing": "border-box",
         "border": "1px solid #cfcfcf",
         "borderRadius": "4px",
         "textAlign": "center",
         "position": "relative"
        }
       },
       "children": [
        {
         "tagName": "div",
         "attributes": {
          "class": "pb-text",
          "style": {
           "position": "absolute",
           "width": "100%"
          }
         },
         "children": [
          "Build finished in 0:00:01."
         ]
        },
        {
         "tagName": "div",
         "attributes": {
          "class": "pb-fill",
          "style": {
           "width": "100%",
           "animation": "none",
           "backgroundColor": "#bdd2e6",
           "backgroundSize": "100px 100%",
           "backgroundImage": "none"
          }
         },
         "children": [
          {
           "tagName": "style",
           "attributes": {
            "type": "text/css",
            "scoped": "scoped"
           },
           "children": [
            "\n                        @keyframes pb-fill-anim {\n                            0% { background-position: 0 0; }\n                            100% { background-position: 100px 0; }\n                        }}"
           ]
          },
          " "
         ]
        }
       ]
      },
      "text/html": "<script>\n              (function () {\n                  var root = document.getElementById('eb171908-cd34-4ee8-93fa-d455b83f406a');\n                  var text = root.getElementsByClassName('pb-text')[0];\n                  var fill = root.getElementsByClassName('pb-fill')[0];\n\n                  text.innerHTML = 'Build finished in 0:00:01.';\n                  \n            fill.style.width = '100%';\n            fill.style.animation = 'pb-fill-anim 2s linear infinite';\n            fill.style.backgroundSize = '100px 100%';\n            fill.style.backgroundImage = 'repeating-linear-gradient(' +\n                '90deg, #bdd2e6, #edf2f8 40%, #bdd2e6 80%, #bdd2e6)';\n        \n                  \n                fill.style.animation = 'none';\n                fill.style.backgroundImage = 'none';\n            \n              })();\n        </script>"
     },
     "metadata": {},
     "output_type": "display_data"
    },
    {
     "data": {
      "application/vdom.v1+json": {
       "tagName": "div",
       "attributes": {}
      },
      "text/html": "\n                <script>\n                    if (Jupyter.version.split(\".\")[0] < 5) {\n                        var pb = document.getElementById(\"4da737b4-7909-4534-83fe-c925ef96394d\");\n                        var text = document.createTextNode(\n                            \"HMTL progress bar requires Jupyter Notebook >= \" +\n                            \"5.0 or Jupyter Lab. Alternatively, you can use \" +\n                            \"TerminalProgressBar().\");\n                        pb.parentNode.insertBefore(text, pb);\n                    }\n                </script>\n                <div id=\"4da737b4-7909-4534-83fe-c925ef96394d\" style=\"\n                    width: 100%;\n                    border: 1px solid #cfcfcf;\n                    border-radius: 4px;\n                    text-align: center;\n                    position: relative;\">\n                  <div class=\"pb-text\" style=\"\n                      position: absolute;\n                      width: 100%;\">\n                    0%\n                  </div>\n                  <div class=\"pb-fill\" style=\"\n                      background-color: #bdd2e6;\n                      width: 0%;\">\n                    <style type=\"text/css\" scoped=\"scoped\">\n                        @keyframes pb-fill-anim {\n                            0% { background-position: 0 0; }\n                            100% { background-position: 100px 0; }\n                        }\n                    </style>\n                    &nbsp;\n                  </div>\n                </div>",
      "text/plain": "HtmlProgressBar cannot be displayed. Please use the TerminalProgressBar. It can be enabled with `nengo.rc.set('progress', 'progress_bar', 'nengo.utils.progress.TerminalProgressBar')`."
     },
     "metadata": {},
     "output_type": "display_data"
    },
    {
     "data": {
      "application/vdom.v1+json": {
       "tagName": "div",
       "attributes": {
        "id": "275805c6-08af-413d-895a-cc2e0ab0dc5a",
        "style": {
         "width": "100%",
         "boxSizing": "border-box",
         "border": "1px solid #cfcfcf",
         "borderRadius": "4px",
         "textAlign": "center",
         "position": "relative"
        }
       },
       "children": [
        {
         "tagName": "div",
         "attributes": {
          "class": "pb-text",
          "style": {
           "position": "absolute",
           "width": "100%"
          }
         },
         "children": [
          "Simulating… 0%, ETA: 0:01:57"
         ]
        },
        {
         "tagName": "div",
         "attributes": {
          "class": "pb-fill",
          "style": {
           "width": "0%",
           "animation": "none",
           "backgroundColor": "#bdd2e6",
           "backgroundImage": "none",
           "transition": "width 0.1s linear"
          }
         },
         "children": [
          {
           "tagName": "style",
           "attributes": {
            "type": "text/css",
            "scoped": "scoped"
           },
           "children": [
            "\n                        @keyframes pb-fill-anim {\n                            0% { background-position: 0 0; }\n                            100% { background-position: 100px 0; }\n                        }}"
           ]
          },
          " "
         ]
        }
       ]
      },
      "text/html": "<script>\n              (function () {\n                  var root = document.getElementById('4da737b4-7909-4534-83fe-c925ef96394d');\n                  var text = root.getElementsByClassName('pb-text')[0];\n                  var fill = root.getElementsByClassName('pb-fill')[0];\n\n                  text.innerHTML = 'Simulating&hellip; 0%, ETA: 0:01:57';\n                  \n            if (0.09 > 0.) {\n                fill.style.transition = 'width 0.1s linear';\n            } else {\n                fill.style.transition = 'none';\n            }\n\n            fill.style.width = '0.09%';\n            fill.style.animation = 'none';\n            fill.style.backgroundImage = 'none'\n        \n                  \n              })();\n        </script>"
     },
     "metadata": {},
     "output_type": "display_data"
    },
    {
     "name": "stdout",
     "text": [
      "loihi error: 43.00%\n"
     ],
     "output_type": "stream"
    }
   ],
   "source": [
    "n_presentations = 100\n",
    "with nengo.Simulator(net, dt=dt) as sim:\n",
    "    # if running on Loihi, increase the max input spikes per step\n",
    "    # if 'loihi' in sim.sims:\n",
    "    #    sim.sims['loihi'].snip_max_spikes_per_step = 120\n",
    "\n",
    "    # run the simulation on Loihi\n",
    "    sim.run(n_presentations * presentation_time)\n",
    "\n",
    "    # check classification error\n",
    "    step = int(presentation_time / dt)\n",
    "    output = sim.data[out_p_filt][step - 1::step]\n",
    "    correct = 100 * (np.mean(\n",
    "        np.argmax(output, axis=-1)\n",
    "        != np.argmax(test_data[out_p_filt][:n_presentations, -1],\n",
    "                     axis=-1)\n",
    "    ))\n",
    "    print(\"loihi error: %.2f%%\" % correct)"
   ]
  },
  {
   "cell_type": "code",
   "execution_count": 14,
   "metadata": {
    "pycharm": {
     "is_executing": false
    }
   },
   "outputs": [
    {
     "name": "stderr",
     "text": [
      "W1209 22:52:30.911400 20504 image.py:663] Clipping input data to the valid range for imshow with RGB data ([0..1] for floats or [0..255] for integers).\n"
     ],
     "output_type": "stream"
    },
    {
     "data": {
      "text/plain": "<Figure size 432x288 with 2 Axes>",
      "image/png": "[encoded data removed]"
     },
     "metadata": {
      "needs_background": "light"
     },
     "output_type": "display_data"
    }
   ],
   "source": [
    "n_plots = 10\n",
    "plt.figure()\n",
    "\n",
    "plt.subplot(2, 1, 1)\n",
    "images = test_data[inp].reshape(-1, 32, 32, 3)[::step]\n",
    "ni, nj, nc = images[0].shape\n",
    "allimage = np.zeros((ni, nj * n_plots, nc), dtype=images.dtype)\n",
    "for i, image in enumerate(images[:n_plots]):\n",
    "    allimage[:, i * nj:(i + 1) * nj] = image\n",
    "if allimage.shape[-1] == 1:\n",
    "    allimage = allimage[:, :, 0]\n",
    "plt.imshow(allimage, aspect='auto', interpolation='none', cmap='gray')\n",
    "\n",
    "plt.subplot(2, 1, 2)\n",
    "plt.plot(sim.trange()[:n_plots * step], sim.data[out_p_filt][:n_plots * step])\n",
    "plt.legend(['%d' % i for i in range(10)], loc='best');"
   ]
  },
  {
   "cell_type": "code",
   "execution_count": null,
   "metadata": {
    "pycharm": {
     "is_executing": false
    }
   },
   "outputs": [],
   "source": []
  }
 ],
 "metadata": {
  "kernelspec": {
   "display_name": "Python 3",
   "language": "python",
   "name": "python3"
  },
  "language_info": {
   "codemirror_mode": {
    "name": "ipython",
    "version": 3
   },
   "file_extension": ".py",
   "mimetype": "text/x-python",
   "name": "python",
   "nbconvert_exporter": "python",
   "pygments_lexer": "ipython3",
   "version": "3.6.8"
  },
  "pycharm": {
   "stem_cell": {
    "cell_type": "raw",
    "source": [],
    "metadata": {
     "collapsed": false
    }
   }
  }
 },
 "nbformat": 4,
 "nbformat_minor": 2
}